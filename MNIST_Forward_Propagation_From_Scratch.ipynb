{
 "cells": [
  {
   "cell_type": "code",
   "execution_count": 1,
   "metadata": {
    "collapsed": true
   },
   "outputs": [],
   "source": [
    "import numpy as np\n",
    "import pandas as pd\n",
    "import math\n",
    "import scipy\n",
    "import tensorflow as tf\n",
    "import matplotlib.pyplot as plt\n",
    "import matplotlib.cm as cm\n",
    "from scipy import misc"
   ]
  },
  {
   "cell_type": "code",
   "execution_count": 2,
   "metadata": {
    "collapsed": true
   },
   "outputs": [],
   "source": [
    "train = pd.read_csv(\"C:/Users/nwalker018/Desktop/Datasets/Digit Recognizer/Digit_Recognizer_Train.csv\")\n",
    "test = pd.read_csv(\"C:/Users/nwalker018/Desktop/Datasets/Digit Recognizer/Digit_Recognizer_Test.csv\")\n",
    "\n",
    "train = pd.DataFrame(data=train)\n",
    "test_x = pd.DataFrame(data=test)\n",
    "\n",
    "train_y = pd.DataFrame(data=train[train.columns[0]])\n",
    "train_x = pd.DataFrame(data=train[train.columns[1:]])\n"
   ]
  },
  {
   "cell_type": "code",
   "execution_count": 3,
   "metadata": {
    "collapsed": true
   },
   "outputs": [],
   "source": [
    "# recalculate pixel values to be between [0,1] rather than [0,255]\n",
    "train_x = np.multiply(train_x, 1.0 / 255.0)"
   ]
  },
  {
   "cell_type": "code",
   "execution_count": 4,
   "metadata": {},
   "outputs": [
    {
     "name": "stdout",
     "output_type": "stream",
     "text": [
      "image_size = 784\n",
      "image_height = 28\n",
      "image_width = 28\n"
     ]
    }
   ],
   "source": [
    "image_size = train_x.shape[1]\n",
    "print('image_size =', format(image_size))\n",
    "\n",
    "# since the images are square:\n",
    "image_height = image_width = np.sqrt(image_size).astype(np.uint8)\n",
    "print('image_height = {0}\\nimage_width = {1}'.format(image_height, image_width))"
   ]
  },
  {
   "cell_type": "code",
   "execution_count": 5,
   "metadata": {},
   "outputs": [
    {
     "data": {
      "text/plain": [
       "(28, 28)"
      ]
     },
     "execution_count": 5,
     "metadata": {},
     "output_type": "execute_result"
    }
   ],
   "source": [
    "# Reshape an image into a 28x28 matrix \n",
    "an_image = train_x.loc[8].values.reshape(image_width, image_height)\n",
    "an_image.shape"
   ]
  },
  {
   "cell_type": "code",
   "execution_count": 6,
   "metadata": {
    "collapsed": true
   },
   "outputs": [],
   "source": [
    "# Output one of the images:\n",
    "#  \n",
    "def display(img):\n",
    "    one_image = train_x.loc[img].values.reshape(image_width, image_height)\n",
    "    plt.axis('off')\n",
    "    plt.imshow(one_image, cmap=cm.binary)\n",
    "    plt.show()"
   ]
  },
  {
   "cell_type": "code",
   "execution_count": 7,
   "metadata": {
    "collapsed": true
   },
   "outputs": [],
   "source": [
    "# Create a convolved feature using an example image and filter"
   ]
  },
  {
   "cell_type": "code",
   "execution_count": 8,
   "metadata": {
    "collapsed": true
   },
   "outputs": [],
   "source": [
    "# Example image\n",
    "img1 = np.matrix(train_x.loc[10].values.reshape(image_width, image_height))"
   ]
  },
  {
   "cell_type": "code",
   "execution_count": 9,
   "metadata": {},
   "outputs": [
    {
     "data": {
      "text/plain": [
       "matrix([[ 1,  0, -1],\n",
       "        [ 0,  0,  0],\n",
       "        [-1,  0,  1]])"
      ]
     },
     "execution_count": 9,
     "metadata": {},
     "output_type": "execute_result"
    }
   ],
   "source": [
    "# Example filter layer:\n",
    "filter1 = np.matrix('1, 0, -1; 0, 0, 0; -1, 0, 1')\n",
    "filter1"
   ]
  },
  {
   "cell_type": "code",
   "execution_count": 10,
   "metadata": {},
   "outputs": [
    {
     "name": "stdout",
     "output_type": "stream",
     "text": [
      "filter_height = 3\n",
      "filter_width = 3\n"
     ]
    }
   ],
   "source": [
    "filter_height = filter1.shape[0]\n",
    "filter_width = filter1.shape[1]\n",
    "print('filter_height = {0}\\nfilter_width = {1}'.format(filter_height, filter_width))"
   ]
  },
  {
   "cell_type": "code",
   "execution_count": 11,
   "metadata": {},
   "outputs": [
    {
     "name": "stdout",
     "output_type": "stream",
     "text": [
      "[[1 0]\n",
      " [0 0]]\n",
      "\n",
      "[[ 0 -1]\n",
      " [ 0  0]]\n",
      "\n",
      "[[ 1  0]\n",
      " [ 0  0]\n",
      " [-1  0]]\n"
     ]
    }
   ],
   "source": [
    "# options:\n",
    "# 1.) matrix.getA1 to transform matrix into a 1d array, multiply \n",
    "print(filter1[0:2,0:2])\n",
    "print()\n",
    "print(filter1[0:2,1:3])\n",
    "print()\n",
    "print(filter1[0:3,0:2])"
   ]
  },
  {
   "cell_type": "code",
   "execution_count": 16,
   "metadata": {},
   "outputs": [
    {
     "data": {
      "image/png": "[encoded data removed]",
      "text/plain": [
       "<matplotlib.figure.Figure at 0x1fbcb9629b0>"
      ]
     },
     "metadata": {},
     "output_type": "display_data"
    }
   ],
   "source": [
    "display(10)"
   ]
  },
  {
   "cell_type": "code",
   "execution_count": 13,
   "metadata": {
    "collapsed": true
   },
   "outputs": [],
   "source": [
    "# Function to create a convolved feature:\n",
    "def convolve(img):\n",
    "    matrix = train_x.loc[img].values.reshape(image_width, image_height)\n",
    "    my_arr = []\n",
    "    for i in range(0,image_height-filter_height): # iterate through matrix rows\n",
    "        for j in range(0,image_width-filter_width): # iterate through matrix columns\n",
    "            slice = matrix[i:i+filter_height,j:j+filter_width] # take a subset of the image matrix in order to\n",
    "            slide = np.multiply(slice, filter1)\n",
    "            sum1 = np.sum(slide)\n",
    "            my_arr.append(sum1)\n",
    "    np.asarray(my_arr) \n",
    "    my_mat = np.reshape(my_arr, (25,25))\n",
    "    my_mat = np.matrix(my_mat)\n",
    "    \n",
    "    return my_mat"
   ]
  },
  {
   "cell_type": "code",
   "execution_count": 14,
   "metadata": {
    "collapsed": true
   },
   "outputs": [],
   "source": [
    "# Plotting function for the convolved image: \n",
    "def plot_conv(img):\n",
    "    plt.axis('off')\n",
    "    plt.imshow(convolve(img), cmap=cm.binary)\n",
    "    plt.show()\n",
    "    return"
   ]
  },
  {
   "cell_type": "code",
   "execution_count": 15,
   "metadata": {},
   "outputs": [
    {
     "data": {
      "image/png": "[encoded data removed]",
      "text/plain": [
       "<matplotlib.figure.Figure at 0x1fbcba7c198>"
      ]
     },
     "metadata": {},
     "output_type": "display_data"
    }
   ],
   "source": [
    "plot_conv(10)"
   ]
  },
  {
   "cell_type": "code",
   "execution_count": 17,
   "metadata": {
    "collapsed": true
   },
   "outputs": [],
   "source": [
    "# ReLU function:\n",
    "def ReLU(x):\n",
    "    y = max(x, 0)\n",
    "    return y"
   ]
  },
  {
   "cell_type": "code",
   "execution_count": 18,
   "metadata": {
    "collapsed": true
   },
   "outputs": [],
   "source": [
    "# sigmoid function:\n",
    "def sigmoid(x):\n",
    "    y = 1 / (1 + math.exp(-x))\n",
    "    return y"
   ]
  },
  {
   "cell_type": "code",
   "execution_count": 19,
   "metadata": {
    "collapsed": true
   },
   "outputs": [],
   "source": [
    "# tanh function: \n",
    "def tanh(x):\n",
    "    y = 1 - math.tanh(x)**2\n",
    "    return y"
   ]
  },
  {
   "cell_type": "code",
   "execution_count": 20,
   "metadata": {
    "collapsed": true
   },
   "outputs": [],
   "source": [
    "#activation function:\n",
    "def activate(img):\n",
    "    my_arr = []\n",
    "    conv = convolve(img)\n",
    "    matrix_height = conv.shape[0]\n",
    "    matrix_width = conv.shape[1]\n",
    "    for i in range(0, matrix_height):\n",
    "        for j in range(0, matrix_width):\n",
    "            spot = conv[i,j]\n",
    "            spot = ReLU(spot) # change activation function here to change the activation function\n",
    "            my_arr.append(spot)\n",
    "    \n",
    "    np.asarray(my_arr)\n",
    "    my_mat = np.reshape(my_arr, (matrix_height, matrix_width))\n",
    "    my_mat = np.matrix(my_mat)\n",
    "    \n",
    "    return my_mat"
   ]
  },
  {
   "cell_type": "code",
   "execution_count": 21,
   "metadata": {
    "collapsed": true
   },
   "outputs": [],
   "source": [
    "# Plotting function for the activation layer: \n",
    "def plot_active(img):\n",
    "    plt.axis('off')\n",
    "    plt.imshow(activate(img), cmap=cm.binary)\n",
    "    plt.show()\n",
    "    return"
   ]
  },
  {
   "cell_type": "code",
   "execution_count": 22,
   "metadata": {},
   "outputs": [
    {
     "data": {
      "image/png": "[encoded data removed]",
      "text/plain": [
       "<matplotlib.figure.Figure at 0x1fb803b0978>"
      ]
     },
     "metadata": {},
     "output_type": "display_data"
    }
   ],
   "source": [
    "plot_active(10)"
   ]
  },
  {
   "cell_type": "code",
   "execution_count": 23,
   "metadata": {
    "collapsed": true
   },
   "outputs": [],
   "source": [
    "# pooling function:\n",
    "def pooling(img):\n",
    "    my_arr = []\n",
    "    matrix = activate(img)\n",
    "    matrix_height = matrix.shape[0]\n",
    "    matrix_width = matrix.shape[1]\n",
    "    if matrix_height % 2 == 0:\n",
    "        pool_dim = 2\n",
    "    elif matrix_height % 3 == 0:\n",
    "        pool_dim = 3\n",
    "    elif matrix_height % 5 == 0:\n",
    "        pool_dim = 5\n",
    "    elif matrix_height % 7 == 0:\n",
    "        pool_dim = 7\n",
    "    else:\n",
    "        pool_dim = 1\n",
    "        \n",
    "    for i in range(0,matrix_height, pool_dim):\n",
    "        for j in range(0,matrix_width, pool_dim):\n",
    "            pool = matrix[i:i+pool_dim, j:j+pool_dim]\n",
    "            sum_pool = np.sum(pool)\n",
    "            mean_pool = np.mean(pool)\n",
    "            max_pool = np.max(pool)\n",
    "            my_arr.append(max_pool) # specify pooling type here\n",
    "    \n",
    "    my_mat_height = int(matrix_height / pool_dim)\n",
    "    my_mat_width = int(matrix_width / pool_dim)\n",
    "    np.asarray(my_arr)\n",
    "    my_mat = np.reshape(my_arr, (my_mat_height, my_mat_width))\n",
    "    my_mat = np.matrix(my_mat)\n",
    "    return my_mat"
   ]
  },
  {
   "cell_type": "code",
   "execution_count": 24,
   "metadata": {
    "collapsed": true
   },
   "outputs": [],
   "source": [
    "# Plotting function for the pooled image: \n",
    "def plot_pool(img):\n",
    "    plt.axis('off')\n",
    "    plt.imshow(pooling(img), cmap=cm.binary)\n",
    "    plt.show()\n",
    "    return"
   ]
  },
  {
   "cell_type": "code",
   "execution_count": 25,
   "metadata": {},
   "outputs": [
    {
     "data": {
      "image/png": "[encoded data removed]",
      "text/plain": [
       "<matplotlib.figure.Figure at 0x1fb80402438>"
      ]
     },
     "metadata": {},
     "output_type": "display_data"
    }
   ],
   "source": [
    "plot_pool(10)"
   ]
  },
  {
   "cell_type": "code",
   "execution_count": 26,
   "metadata": {
    "collapsed": true
   },
   "outputs": [],
   "source": [
    "def softmax(img):\n",
    "    matrix = pooling(img)\n",
    "    matrix_height = matrix.shape[0]\n",
    "    matrix_width = matrix.shape[1]\n",
    "    inputs = matrix.getA1()\n",
    "    soft = np.exp(inputs) / float(sum(np.exp(inputs)))\n",
    "    my_mat = np.reshape(soft, (matrix_height, matrix_width))\n",
    "    my_mat = np.matrix(my_mat)\n",
    "    return my_mat"
   ]
  },
  {
   "cell_type": "code",
   "execution_count": 27,
   "metadata": {
    "collapsed": true
   },
   "outputs": [],
   "source": [
    "# Plotting function for the pooled image: \n",
    "def plot_soft(img):\n",
    "    plt.axis('off')\n",
    "    plt.imshow(softmax(img), cmap=cm.binary)\n",
    "    plt.show()\n",
    "    return"
   ]
  },
  {
   "cell_type": "code",
   "execution_count": 28,
   "metadata": {},
   "outputs": [
    {
     "data": {
      "text/plain": [
       "matrix([[ 0.019075  ,  0.04985721,  0.03175921,  0.04591584,  0.019075  ],\n",
       "        [ 0.04034221,  0.04985721,  0.04484808,  0.05144615,  0.04432355],\n",
       "        [ 0.05064545,  0.03408205,  0.04098002,  0.04664177,  0.04591584],\n",
       "        [ 0.019075  ,  0.05144615,  0.03302941,  0.0424522 ,  0.05104423],\n",
       "        [ 0.019075  ,  0.0424522 ,  0.0335516 ,  0.04719374,  0.04591584]])"
      ]
     },
     "execution_count": 28,
     "metadata": {},
     "output_type": "execute_result"
    }
   ],
   "source": [
    "softmax(4)"
   ]
  },
  {
   "cell_type": "code",
   "execution_count": null,
   "metadata": {
    "collapsed": true
   },
   "outputs": [],
   "source": []
  }
 ],
 "metadata": {
  "kernelspec": {
   "display_name": "Python 3",
   "language": "python",
   "name": "python3"
  },
  "language_info": {
   "codemirror_mode": {
    "name": "ipython",
    "version": 3
   },
   "file_extension": ".py",
   "mimetype": "text/x-python",
   "name": "python",
   "nbconvert_exporter": "python",
   "pygments_lexer": "ipython3",
   "version": "3.6.3"
  }
 },
 "nbformat": 4,
 "nbformat_minor": 2
}
